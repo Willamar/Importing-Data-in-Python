{
 "cells": [
  {
   "cell_type": "code",
   "execution_count": 4,
   "metadata": {},
   "outputs": [],
   "source": [
    "# Exploring your working directory\n"
   ]
  },
  {
   "cell_type": "code",
   "execution_count": 6,
   "metadata": {},
   "outputs": [
    {
     "name": "stdout",
     "output_type": "stream",
     "text": [
      " O volume na unidade C ‚ OS\n",
      " O N£mero de S‚rie do Volume ‚ DC21-F866\n",
      "\n",
      " Pasta de C:\\Users\\wfs20\n",
      "\n",
      "18/02/2019  23:25    <DIR>          .\n",
      "18/02/2019  23:25    <DIR>          ..\n",
      "01/09/2018  19:17    <DIR>          .anaconda\n",
      "04/10/2018  21:49                48 .codenation.yml\n",
      "04/11/2018  17:36    <DIR>          .conda\n",
      "31/12/2018  14:02                43 .condarc\n",
      "27/08/2018  23:12    <DIR>          .dotnet\n",
      "02/09/2018  12:43               177 .gitconfig\n",
      "25/08/2018  18:15    <DIR>          .idlerc\n",
      "18/02/2019  23:25    <DIR>          .ipynb_checkpoints\n",
      "01/09/2018  19:20    <DIR>          .ipython\n",
      "16/09/2018  19:16    <DIR>          .jupyter\n",
      "10/09/2018  21:28    <DIR>          .matplotlib\n",
      "27/08/2018  23:08    <DIR>          .nuget\n",
      "25/08/2018  19:52    <DIR>          .PyCharmCE2018.2\n",
      "27/08/2018  23:00    <DIR>          .templateengine\n",
      "10/12/2018  23:27    <DIR>          .VirtualBox\n",
      "08/01/2019  19:45    <DIR>          .vscode\n",
      "14/12/2018  16:54    <DIR>          3D Objects\n",
      "31/12/2018  14:46    <DIR>          Anaconda3\n",
      "16/02/2019  17:17            10.596 Aula_1.ipynb\n",
      "07/02/2019  20:51            22.742 Aula_3.ipynb\n",
      "14/02/2019  20:51             8.848 Aula_4.ipynb\n",
      "14/02/2019  20:27            11.611 Aula_5.ipynb\n",
      "14/02/2019  20:16            49.695 Aula_6.ipynb\n",
      "01/09/2018  18:35         8.388.608 AzureStorageEmulatorDb54.mdf\n",
      "01/09/2018  18:35         8.388.608 AzureStorageEmulatorDb54_log.ldf\n",
      "04/10/2018  21:52    <DIR>          codenation\n",
      "14/12/2018  16:54    <DIR>          Contacts\n",
      "14/02/2019  21:08            69.663 desafio_aula6.ipynb\n",
      "18/02/2019  23:23    <DIR>          Desktop\n",
      "10/01/2019  21:10    <DIR>          Documents\n",
      "18/02/2019  23:23    <DIR>          Downloads\n",
      "14/12/2018  16:54    <DIR>          Favorites\n",
      "25/11/2018  18:19    <DIR>          Library\n",
      "14/12/2018  16:54    <DIR>          Links\n",
      "09/12/2018  21:06    <DIR>          Machine Learning For Trading\n",
      "14/12/2018  16:54    <DIR>          Music\n",
      "02/09/2018  12:30            13.011 numpy - Aula 1.ipynb\n",
      "17/02/2019  23:07    <DIR>          OneDrive\n",
      "21/11/2018  19:47    <DIR>          Oracle\n",
      "14/12/2018  16:54    <DIR>          Pictures\n",
      "14/02/2019  18:24            44.028 Pokemon.csv\n",
      "16/10/2018  21:54    <DIR>          PycharmProjects\n",
      "20/09/2018  20:36    <DIR>          Python - Data Science & Machine Learning\n",
      "14/12/2018  16:54    <DIR>          Saved Games\n",
      "13/09/2018  20:42    <DIR>          seaborn-data\n",
      "14/12/2018  16:54    <DIR>          Searches\n",
      "11/08/2018  20:51    <DIR>          source\n",
      "14/02/2019  23:03            23.193 timeSeries.ipynb\n",
      "30/08/2018  09:53    <DIR>          Tracing\n",
      "16/02/2019  17:07           498.214 tweets.csv\n",
      "09/12/2018  20:50    <DIR>          Untitled Folder 1\n",
      "14/02/2019  20:17               555 Untitled.ipynb\n",
      "17/02/2019  21:58           144.651 Untitled1.ipynb\n",
      "18/02/2019  23:25                72 Untitled2.ipynb\n",
      "14/12/2018  16:54    <DIR>          Videos\n",
      "10/12/2018  20:41    <DIR>          VirtualBox VMs\n",
      "07/02/2019  21:21             8.013 Willamar_Aula_3.ipynb\n",
      "17/02/2019  16:39           569.885 world_ind_pop_data.csv\n",
      "              20 arquivo(s)     18.252.261 bytes\n",
      "              40 pasta(s)   29.648.113.664 bytes dispon¡veis\n"
     ]
    }
   ],
   "source": [
    "ls"
   ]
  },
  {
   "cell_type": "code",
   "execution_count": 9,
   "metadata": {},
   "outputs": [
    {
     "name": "stdout",
     "output_type": "stream",
     "text": [
      "Time\tPercent\n",
      "99\t0.067\n",
      "99\t0.133\n",
      "99\t0.067\n",
      "99\t0\n",
      "99\t0\n",
      "0\t0.5\n",
      "0\t0.467\n",
      "0\t0.857\n",
      "0\t0.5\n",
      "0\t0.357\n",
      "0\t0.533\n",
      "5\t0.467\n",
      "5\t0.467\n",
      "5\t0.125\n",
      "5\t0.4\n",
      "5\t0.214\n",
      "5\t0.4\n",
      "10\t0.067\n",
      "10\t0.067\n",
      "10\t0.333\n",
      "10\t0.333\n",
      "10\t0.133\n",
      "10\t0.133\n",
      "15\t0.267\n",
      "15\t0.286\n",
      "15\t0.333\n",
      "15\t0.214\n",
      "15\t0\n",
      "15\t0\n",
      "20\t0.267\n",
      "20\t0.2\n",
      "20\t0.267\n",
      "20\t0.437\n",
      "20\t0.077\n",
      "20\t0.067\n",
      "25\t0.133\n",
      "25\t0.267\n",
      "25\t0.412\n",
      "25\t0\n",
      "25\t0.067\n",
      "25\t0.133\n",
      "30\t0\n",
      "30\t0.071\n",
      "30\t0\n",
      "30\t0.067\n",
      "30\t0.067\n",
      "30\t0.133\n",
      "False\n",
      "True\n"
     ]
    }
   ],
   "source": [
    "# Open a file: file\n",
    "file = open(\"seaslug.txt\", mode='r')\n",
    "\n",
    "# Print it\n",
    "print(file.read())\n",
    "\n",
    "# Check whether file is closed\n",
    "print(file.closed)\n",
    "\n",
    "# Close file\n",
    "file.close()\n",
    "\n",
    "# Check whether file is closed\n",
    "print(file.closed)\n"
   ]
  },
  {
   "cell_type": "code",
   "execution_count": 10,
   "metadata": {},
   "outputs": [
    {
     "name": "stdout",
     "output_type": "stream",
     "text": [
      "Time\tPercent\n",
      "\n",
      "99\t0.067\n",
      "\n",
      "99\t0.133\n",
      "\n"
     ]
    }
   ],
   "source": [
    "# Read & print the first 3 lines\n",
    "with open('seaslug.txt') as file:\n",
    "    print(file.readline())\n",
    "    print(file.readline())\n",
    "    print(file.readline())"
   ]
  },
  {
   "cell_type": "code",
   "execution_count": null,
   "metadata": {},
   "outputs": [],
   "source": []
  }
 ],
 "metadata": {
  "kernelspec": {
   "display_name": "Python 3",
   "language": "python",
   "name": "python3"
  },
  "language_info": {
   "codemirror_mode": {
    "name": "ipython",
    "version": 3
   },
   "file_extension": ".py",
   "mimetype": "text/x-python",
   "name": "python",
   "nbconvert_exporter": "python",
   "pygments_lexer": "ipython3",
   "version": "3.6.5"
  }
 },
 "nbformat": 4,
 "nbformat_minor": 2
}
